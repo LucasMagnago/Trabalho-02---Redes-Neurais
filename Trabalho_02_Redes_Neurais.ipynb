{
  "nbformat": 4,
  "nbformat_minor": 0,
  "metadata": {
    "colab": {
      "provenance": []
    },
    "kernelspec": {
      "name": "python3",
      "display_name": "Python 3"
    },
    "language_info": {
      "name": "python"
    }
  },
  "cells": [
    {
      "cell_type": "markdown",
      "source": [
        "A) Faça as análises e alterações necessárias na base de dados para predizer a variável Severity\n",
        "Level. Verifique se a base de dados possui valores faltantes ou outliers. Caso existam, explique\n",
        "as considerações e mudanças propostas."
      ],
      "metadata": {
        "id": "J_H90iQyE7cL"
      }
    },
    {
      "cell_type": "code",
      "execution_count": 110,
      "metadata": {
        "id": "mH_xshqg_93O"
      },
      "outputs": [],
      "source": [
        "import pandas as pd\n",
        "import numpy as np\n",
        "import matplotlib.pyplot as plt\n",
        "import seaborn as sns"
      ]
    },
    {
      "cell_type": "code",
      "source": [
        "# 1. Carregar a base de dados\n",
        "df = pd.read_csv('cybersecurity_attacks.csv')"
      ],
      "metadata": {
        "id": "2a1F8B6iAAGl"
      },
      "execution_count": 111,
      "outputs": []
    },
    {
      "cell_type": "code",
      "source": [
        "# Exibir informações gerais\n",
        "print(df.info())\n",
        "print(df.describe())"
      ],
      "metadata": {
        "colab": {
          "base_uri": "https://localhost:8080/"
        },
        "collapsed": true,
        "id": "75a3Op5gAdVz",
        "outputId": "0bd0db12-d126-40dd-e45b-571c73a7f7fd"
      },
      "execution_count": 112,
      "outputs": [
        {
          "output_type": "stream",
          "name": "stdout",
          "text": [
            "<class 'pandas.core.frame.DataFrame'>\n",
            "RangeIndex: 40000 entries, 0 to 39999\n",
            "Data columns (total 25 columns):\n",
            " #   Column                  Non-Null Count  Dtype  \n",
            "---  ------                  --------------  -----  \n",
            " 0   Timestamp               40000 non-null  object \n",
            " 1   Source IP Address       40000 non-null  object \n",
            " 2   Destination IP Address  40000 non-null  object \n",
            " 3   Source Port             40000 non-null  int64  \n",
            " 4   Destination Port        40000 non-null  int64  \n",
            " 5   Protocol                40000 non-null  object \n",
            " 6   Packet Length           40000 non-null  int64  \n",
            " 7   Packet Type             40000 non-null  object \n",
            " 8   Traffic Type            40000 non-null  object \n",
            " 9   Payload Data            40000 non-null  object \n",
            " 10  Malware Indicators      20000 non-null  object \n",
            " 11  Anomaly Scores          40000 non-null  float64\n",
            " 12  Alerts/Warnings         19933 non-null  object \n",
            " 13  Attack Type             40000 non-null  object \n",
            " 14  Attack Signature        40000 non-null  object \n",
            " 15  Action Taken            40000 non-null  object \n",
            " 16  Severity Level          40000 non-null  object \n",
            " 17  User Information        40000 non-null  object \n",
            " 18  Device Information      40000 non-null  object \n",
            " 19  Network Segment         40000 non-null  object \n",
            " 20  Geo-location Data       40000 non-null  object \n",
            " 21  Proxy Information       20149 non-null  object \n",
            " 22  Firewall Logs           20039 non-null  object \n",
            " 23  IDS/IPS Alerts          19950 non-null  object \n",
            " 24  Log Source              40000 non-null  object \n",
            "dtypes: float64(1), int64(3), object(21)\n",
            "memory usage: 7.6+ MB\n",
            "None\n",
            "        Source Port  Destination Port  Packet Length  Anomaly Scores\n",
            "count  40000.000000      40000.000000   40000.000000    40000.000000\n",
            "mean   32970.356450      33150.868650     781.452725       50.113473\n",
            "std    18560.425604      18574.668842     416.044192       28.853598\n",
            "min     1027.000000       1024.000000      64.000000        0.000000\n",
            "25%    16850.750000      17094.750000     420.000000       25.150000\n",
            "50%    32856.000000      33004.500000     782.000000       50.345000\n",
            "75%    48928.250000      49287.000000    1143.000000       75.030000\n",
            "max    65530.000000      65535.000000    1500.000000      100.000000\n"
          ]
        }
      ]
    },
    {
      "cell_type": "code",
      "source": [
        "# 2. Tratamento de valores faltantes\n",
        "# Identificar colunas numéricas e categóricas\n",
        "numeric_columns = df.select_dtypes(include=['number']).columns\n",
        "categorical_columns = df.select_dtypes(include=['object']).columns\n",
        "\n",
        "# Preencher valores faltantes em colunas numéricas com a média\n",
        "df[numeric_columns] = df[numeric_columns].fillna(df[numeric_columns].mean())\n",
        "\n",
        "# Preencher valores faltantes em colunas categóricas com 'desconhecido'\n",
        "df[categorical_columns] = df[categorical_columns].fillna('desconhecido')"
      ],
      "metadata": {
        "id": "p_NkZ3s8AHfb"
      },
      "execution_count": 113,
      "outputs": []
    },
    {
      "cell_type": "code",
      "source": [
        "# Verificar se ainda existem valores nulos\n",
        "print(df.isnull().sum())"
      ],
      "metadata": {
        "colab": {
          "base_uri": "https://localhost:8080/"
        },
        "collapsed": true,
        "id": "KZ4qItxCBgav",
        "outputId": "66cc2776-95b1-4cc8-c64d-2719232e2799"
      },
      "execution_count": 94,
      "outputs": [
        {
          "output_type": "stream",
          "name": "stdout",
          "text": [
            "Timestamp                 0\n",
            "Source IP Address         0\n",
            "Destination IP Address    0\n",
            "Source Port               0\n",
            "Destination Port          0\n",
            "Protocol                  0\n",
            "Packet Length             0\n",
            "Packet Type               0\n",
            "Traffic Type              0\n",
            "Payload Data              0\n",
            "Malware Indicators        0\n",
            "Anomaly Scores            0\n",
            "Alerts/Warnings           0\n",
            "Attack Type               0\n",
            "Attack Signature          0\n",
            "Action Taken              0\n",
            "Severity Level            0\n",
            "User Information          0\n",
            "Device Information        0\n",
            "Network Segment           0\n",
            "Geo-location Data         0\n",
            "Proxy Information         0\n",
            "Firewall Logs             0\n",
            "IDS/IPS Alerts            0\n",
            "Log Source                0\n",
            "dtype: int64\n"
          ]
        }
      ]
    },
    {
      "cell_type": "code",
      "source": [
        "print(df.head)"
      ],
      "metadata": {
        "colab": {
          "base_uri": "https://localhost:8080/"
        },
        "collapsed": true,
        "id": "p040dwCyPfZu",
        "outputId": "f4d9c342-f738-4ddd-e970-db1de12d5d7e"
      },
      "execution_count": 78,
      "outputs": [
        {
          "output_type": "stream",
          "name": "stdout",
          "text": [
            "<bound method NDFrame.head of                  Timestamp Source IP Address Destination IP Address  \\\n",
            "0      2023-05-30 06:33:58     103.216.15.12           84.9.164.252   \n",
            "1      2020-08-26 07:08:30    78.199.217.198         66.191.137.154   \n",
            "2      2022-11-13 08:23:25      63.79.210.48          198.219.82.17   \n",
            "3      2023-07-02 10:38:46     163.42.196.10        101.228.192.255   \n",
            "4      2023-07-16 13:11:07     71.166.185.76        189.243.174.238   \n",
            "...                    ...               ...                    ...   \n",
            "39995  2023-05-26 14:08:42      26.36.109.26         121.100.75.240   \n",
            "39996  2023-03-27 00:38:27      17.21.163.81         196.108.134.78   \n",
            "39997  2022-03-31 01:45:49     162.35.217.57            98.107.0.15   \n",
            "39998  2023-09-22 18:32:38    208.72.233.205         173.79.112.252   \n",
            "39999  2023-10-10 11:59:52     14.102.21.108           109.198.45.7   \n",
            "\n",
            "       Source Port  Destination Port Protocol  Packet Length Packet Type  \\\n",
            "0            31225             17616     ICMP            503        Data   \n",
            "1            17245             48166     ICMP           1174        Data   \n",
            "2            16811             53600      UDP            306     Control   \n",
            "3            20018             32534      UDP            385        Data   \n",
            "4             6131             26646      TCP           1462        Data   \n",
            "...            ...               ...      ...            ...         ...   \n",
            "39995        31005              6764      UDP           1428     Control   \n",
            "39996         2553             28091      UDP           1184     Control   \n",
            "39997        22505             25152      UDP           1043        Data   \n",
            "39998        20013              2703      UDP            483        Data   \n",
            "39999        50137             55575     ICMP           1175     Control   \n",
            "\n",
            "      Traffic Type                                       Payload Data  ...  \\\n",
            "0             HTTP  Qui natus odio asperiores nam. Optio nobis ius...  ...   \n",
            "1             HTTP  Aperiam quos modi officiis veritatis rem. Omni...  ...   \n",
            "2             HTTP  Perferendis sapiente vitae soluta. Hic delectu...  ...   \n",
            "3             HTTP  Totam maxime beatae expedita explicabo porro l...  ...   \n",
            "4              DNS  Odit nesciunt dolorem nisi iste iusto. Animi v...  ...   \n",
            "...            ...                                                ...  ...   \n",
            "39995         HTTP  Quibusdam ullam consequatur consequuntur accus...  ...   \n",
            "39996         HTTP  Quaerat neque esse. Animi expedita natus commo...  ...   \n",
            "39997          DNS  Enim at aspernatur illum. Saepe numquam eligen...  ...   \n",
            "39998          FTP  Officiis dolorem sed harum provident earum dis...  ...   \n",
            "39999         HTTP  Eligendi omnis voluptate nihil voluptatibus do...  ...   \n",
            "\n",
            "      Action Taken  Severity Level User Information  \\\n",
            "0           Logged             Low    Reyansh Dugal   \n",
            "1          Blocked             Low       Sumer Rana   \n",
            "2          Ignored             Low     Himmat Karpe   \n",
            "3          Blocked          Medium       Fateh Kibe   \n",
            "4          Blocked             Low     Dhanush Chad   \n",
            "...            ...             ...              ...   \n",
            "39995       Logged          Medium      Adira Madan   \n",
            "39996       Logged            High        Rati Dara   \n",
            "39997      Blocked             Low     Samiha Joshi   \n",
            "39998      Ignored             Low    Rasha Chauhan   \n",
            "39999       Logged          Medium      Zaina Kumar   \n",
            "\n",
            "                                      Device Information Network Segment  \\\n",
            "0      Mozilla/5.0 (compatible; MSIE 8.0; Windows NT ...       Segment A   \n",
            "1      Mozilla/5.0 (compatible; MSIE 8.0; Windows NT ...       Segment B   \n",
            "2      Mozilla/5.0 (compatible; MSIE 9.0; Windows NT ...       Segment C   \n",
            "3      Mozilla/5.0 (Macintosh; PPC Mac OS X 10_11_5; ...       Segment B   \n",
            "4      Mozilla/5.0 (compatible; MSIE 5.0; Windows NT ...       Segment C   \n",
            "...                                                  ...             ...   \n",
            "39995  Mozilla/5.0 (iPad; CPU iPad OS 14_2_1 like Mac...       Segment A   \n",
            "39996  Mozilla/5.0 (Windows; U; Windows 98; Win 9x 4....       Segment C   \n",
            "39997  Mozilla/5.0 (Windows; U; Windows NT 4.0) Apple...       Segment C   \n",
            "39998  Mozilla/5.0 (X11; Linux i686) AppleWebKit/536....       Segment B   \n",
            "39999  Mozilla/5.0 (iPod; U; CPU iPhone OS 3_0 like M...       Segment A   \n",
            "\n",
            "                   Geo-location Data Proxy Information Firewall Logs  \\\n",
            "0                 Jamshedpur, Sikkim      150.9.97.135      Log Data   \n",
            "1                 Bilaspur, Nagaland      desconhecido      Log Data   \n",
            "2                  Bokaro, Rajasthan    114.133.48.179      Log Data   \n",
            "3                 Jaunpur, Rajasthan      desconhecido  desconhecido   \n",
            "4                 Anantapur, Tripura     149.6.110.119  desconhecido   \n",
            "...                              ...               ...           ...   \n",
            "39995                Nashik, Manipur      desconhecido      Log Data   \n",
            "39996              Vadodara, Mizoram       60.51.30.46      Log Data   \n",
            "39997  Mahbubnagar, Himachal Pradesh      desconhecido      Log Data   \n",
            "39998    Rourkela, Arunachal Pradesh      137.76.130.8      Log Data   \n",
            "39999       Pudukkottai, West Bengal   112.169.115.139      Log Data   \n",
            "\n",
            "      IDS/IPS Alerts Log Source  \n",
            "0       desconhecido     Server  \n",
            "1       desconhecido   Firewall  \n",
            "2         Alert Data   Firewall  \n",
            "3         Alert Data   Firewall  \n",
            "4         Alert Data   Firewall  \n",
            "...              ...        ...  \n",
            "39995     Alert Data   Firewall  \n",
            "39996   desconhecido   Firewall  \n",
            "39997     Alert Data     Server  \n",
            "39998   desconhecido     Server  \n",
            "39999     Alert Data   Firewall  \n",
            "\n",
            "[40000 rows x 25 columns]>\n"
          ]
        }
      ]
    },
    {
      "cell_type": "code",
      "source": [
        "# 3. Tratamento da coluna Timestamp\n",
        "df['Timestamp'] = pd.to_datetime(df['Timestamp'])\n",
        "\n",
        "# Extração de componentes úteis\n",
        "df['Year'] = df['Timestamp'].dt.year\n",
        "df['Month'] = df['Timestamp'].dt.month\n",
        "df['Day'] = df['Timestamp'].dt.day\n",
        "df['DayOfWeek'] = df['Timestamp'].dt.dayofweek\n",
        "df['Weekday'] = df['Timestamp'].dt.day_name()"
      ],
      "metadata": {
        "id": "QJET-dHRJItT"
      },
      "execution_count": 114,
      "outputs": []
    },
    {
      "cell_type": "code",
      "source": [
        "print(df.head)"
      ],
      "metadata": {
        "colab": {
          "base_uri": "https://localhost:8080/"
        },
        "collapsed": true,
        "id": "CpyXWgAnQf4o",
        "outputId": "ceebf2d9-58ca-4ce6-bd49-a9de435a58ec"
      },
      "execution_count": 96,
      "outputs": [
        {
          "output_type": "stream",
          "name": "stdout",
          "text": [
            "<bound method NDFrame.head of                 Timestamp Source IP Address Destination IP Address  \\\n",
            "0     2023-05-30 06:33:58     103.216.15.12           84.9.164.252   \n",
            "1     2020-08-26 07:08:30    78.199.217.198         66.191.137.154   \n",
            "2     2022-11-13 08:23:25      63.79.210.48          198.219.82.17   \n",
            "3     2023-07-02 10:38:46     163.42.196.10        101.228.192.255   \n",
            "4     2023-07-16 13:11:07     71.166.185.76        189.243.174.238   \n",
            "...                   ...               ...                    ...   \n",
            "39995 2023-05-26 14:08:42      26.36.109.26         121.100.75.240   \n",
            "39996 2023-03-27 00:38:27      17.21.163.81         196.108.134.78   \n",
            "39997 2022-03-31 01:45:49     162.35.217.57            98.107.0.15   \n",
            "39998 2023-09-22 18:32:38    208.72.233.205         173.79.112.252   \n",
            "39999 2023-10-10 11:59:52     14.102.21.108           109.198.45.7   \n",
            "\n",
            "       Source Port  Destination Port Protocol  Packet Length Packet Type  \\\n",
            "0            31225             17616     ICMP            503        Data   \n",
            "1            17245             48166     ICMP           1174        Data   \n",
            "2            16811             53600      UDP            306     Control   \n",
            "3            20018             32534      UDP            385        Data   \n",
            "4             6131             26646      TCP           1462        Data   \n",
            "...            ...               ...      ...            ...         ...   \n",
            "39995        31005              6764      UDP           1428     Control   \n",
            "39996         2553             28091      UDP           1184     Control   \n",
            "39997        22505             25152      UDP           1043        Data   \n",
            "39998        20013              2703      UDP            483        Data   \n",
            "39999        50137             55575     ICMP           1175     Control   \n",
            "\n",
            "      Traffic Type                                       Payload Data  ...  \\\n",
            "0             HTTP  Qui natus odio asperiores nam. Optio nobis ius...  ...   \n",
            "1             HTTP  Aperiam quos modi officiis veritatis rem. Omni...  ...   \n",
            "2             HTTP  Perferendis sapiente vitae soluta. Hic delectu...  ...   \n",
            "3             HTTP  Totam maxime beatae expedita explicabo porro l...  ...   \n",
            "4              DNS  Odit nesciunt dolorem nisi iste iusto. Animi v...  ...   \n",
            "...            ...                                                ...  ...   \n",
            "39995         HTTP  Quibusdam ullam consequatur consequuntur accus...  ...   \n",
            "39996         HTTP  Quaerat neque esse. Animi expedita natus commo...  ...   \n",
            "39997          DNS  Enim at aspernatur illum. Saepe numquam eligen...  ...   \n",
            "39998          FTP  Officiis dolorem sed harum provident earum dis...  ...   \n",
            "39999         HTTP  Eligendi omnis voluptate nihil voluptatibus do...  ...   \n",
            "\n",
            "                   Geo-location Data  Proxy Information Firewall Logs  \\\n",
            "0                 Jamshedpur, Sikkim       150.9.97.135      Log Data   \n",
            "1                 Bilaspur, Nagaland       desconhecido      Log Data   \n",
            "2                  Bokaro, Rajasthan     114.133.48.179      Log Data   \n",
            "3                 Jaunpur, Rajasthan       desconhecido  desconhecido   \n",
            "4                 Anantapur, Tripura      149.6.110.119  desconhecido   \n",
            "...                              ...                ...           ...   \n",
            "39995                Nashik, Manipur       desconhecido      Log Data   \n",
            "39996              Vadodara, Mizoram        60.51.30.46      Log Data   \n",
            "39997  Mahbubnagar, Himachal Pradesh       desconhecido      Log Data   \n",
            "39998    Rourkela, Arunachal Pradesh       137.76.130.8      Log Data   \n",
            "39999       Pudukkottai, West Bengal    112.169.115.139      Log Data   \n",
            "\n",
            "      IDS/IPS Alerts Log Source  Year Month Day DayOfWeek    Weekday  \n",
            "0       desconhecido     Server  2023     5  30         1    Tuesday  \n",
            "1       desconhecido   Firewall  2020     8  26         2  Wednesday  \n",
            "2         Alert Data   Firewall  2022    11  13         6     Sunday  \n",
            "3         Alert Data   Firewall  2023     7   2         6     Sunday  \n",
            "4         Alert Data   Firewall  2023     7  16         6     Sunday  \n",
            "...              ...        ...   ...   ...  ..       ...        ...  \n",
            "39995     Alert Data   Firewall  2023     5  26         4     Friday  \n",
            "39996   desconhecido   Firewall  2023     3  27         0     Monday  \n",
            "39997     Alert Data     Server  2022     3  31         3   Thursday  \n",
            "39998   desconhecido     Server  2023     9  22         4     Friday  \n",
            "39999     Alert Data   Firewall  2023    10  10         1    Tuesday  \n",
            "\n",
            "[40000 rows x 30 columns]>\n"
          ]
        }
      ]
    },
    {
      "cell_type": "code",
      "source": [
        "# 4. Conversão de colunas categóricas para numéricas\n",
        "from sklearn.preprocessing import LabelEncoder, StandardScaler\n",
        "\n",
        "for col in categorical_columns:\n",
        "    le = LabelEncoder()\n",
        "    df[col] = le.fit_transform(df[col])"
      ],
      "metadata": {
        "id": "gD2NzTjqNtvE"
      },
      "execution_count": 115,
      "outputs": []
    },
    {
      "cell_type": "code",
      "source": [
        "print(df.head)"
      ],
      "metadata": {
        "colab": {
          "base_uri": "https://localhost:8080/"
        },
        "collapsed": true,
        "id": "Hh1Uk4AKPvFA",
        "outputId": "87048974-9143-41c0-f014-0911f7ba052a"
      },
      "execution_count": 98,
      "outputs": [
        {
          "output_type": "stream",
          "name": "stdout",
          "text": [
            "<bound method NDFrame.head of        Timestamp  Source IP Address  Destination IP Address  Source Port  \\\n",
            "0          36141                939                   37091        31225   \n",
            "1           6759              35826                   33418        17245   \n",
            "2          30425              32917                   19496        16811   \n",
            "3          37100              12598                     592        20018   \n",
            "4          37488              34515                   17716         6131   \n",
            "...          ...                ...                     ...          ...   \n",
            "39995      36019              25429                    4476        31005   \n",
            "39996      34272              13826                   19064         2553   \n",
            "39997      23705              12418                   39640        22505   \n",
            "39998      39478              21631                   14638        20013   \n",
            "39999      39969               7822                    2031        50137   \n",
            "\n",
            "       Destination Port  Protocol  Packet Length  Packet Type  Traffic Type  \\\n",
            "0                 17616         0            503            1             2   \n",
            "1                 48166         0           1174            1             2   \n",
            "2                 53600         2            306            0             2   \n",
            "3                 32534         2            385            1             2   \n",
            "4                 26646         1           1462            1             0   \n",
            "...                 ...       ...            ...          ...           ...   \n",
            "39995              6764         2           1428            0             2   \n",
            "39996             28091         2           1184            0             2   \n",
            "39997             25152         2           1043            1             0   \n",
            "39998              2703         2            483            1             1   \n",
            "39999             55575         0           1175            0             2   \n",
            "\n",
            "       Payload Data  ...  Geo-location Data  Proxy Information  Firewall Logs  \\\n",
            "0             29502  ...               3723               5143              0   \n",
            "1              2600  ...               1677              20148              0   \n",
            "2             26898  ...               1707               1568              0   \n",
            "3             36619  ...               3750              20148              1   \n",
            "4             25546  ...                577               4967              1   \n",
            "...             ...  ...                ...                ...            ...   \n",
            "39995         30008  ...               5810              20148              0   \n",
            "39996         28652  ...               8491              16346              0   \n",
            "39997         11340  ...               4922              20148              0   \n",
            "39998         25909  ...               6958               3834              0   \n",
            "39999         11246  ...               6487               1390              0   \n",
            "\n",
            "       IDS/IPS Alerts  Log Source  Year  Month  Day  DayOfWeek    Weekday  \n",
            "0                   1           1  2023      5   30          1    Tuesday  \n",
            "1                   1           0  2020      8   26          2  Wednesday  \n",
            "2                   0           0  2022     11   13          6     Sunday  \n",
            "3                   0           0  2023      7    2          6     Sunday  \n",
            "4                   0           0  2023      7   16          6     Sunday  \n",
            "...               ...         ...   ...    ...  ...        ...        ...  \n",
            "39995               0           0  2023      5   26          4     Friday  \n",
            "39996               1           0  2023      3   27          0     Monday  \n",
            "39997               0           1  2022      3   31          3   Thursday  \n",
            "39998               1           1  2023      9   22          4     Friday  \n",
            "39999               0           0  2023     10   10          1    Tuesday  \n",
            "\n",
            "[40000 rows x 30 columns]>\n"
          ]
        }
      ]
    },
    {
      "cell_type": "code",
      "source": [
        "# 5. Detecção e tratamento de outliers\n",
        "for col in numeric_columns:\n",
        "    upper_limit = df[col].quantile(0.99)\n",
        "    df[col] = np.where(df[col] > upper_limit, upper_limit, df[col])\n"
      ],
      "metadata": {
        "id": "gjh0fh5CIz7a"
      },
      "execution_count": 116,
      "outputs": []
    },
    {
      "cell_type": "code",
      "source": [
        "# 6. Tratamento de outliers\n",
        "for col in numeric_columns:\n",
        "    upper_limit = df[col].quantile(0.99)\n",
        "    lower_limit = df[col].quantile(0.01)\n",
        "    df[col] = np.clip(df[col], lower_limit, upper_limit)"
      ],
      "metadata": {
        "id": "0FgxVMzROswR"
      },
      "execution_count": 117,
      "outputs": []
    },
    {
      "cell_type": "code",
      "source": [
        "# 7. Normalização dos dados\n",
        "scaler = StandardScaler()\n",
        "df[numeric_columns] = scaler.fit_transform(df[numeric_columns])"
      ],
      "metadata": {
        "id": "cdrOPHv_OuXI"
      },
      "execution_count": 118,
      "outputs": []
    },
    {
      "cell_type": "markdown",
      "source": [
        "B) Faça um HeatMap correlacionando o número de ataques em cada dia da semana e a cada\n",
        "ano. Explique os resultados obtidos."
      ],
      "metadata": {
        "id": "NdO6Pq3pGfmm"
      }
    },
    {
      "cell_type": "code",
      "source": [
        "# 8. Criar tabela de frequência\n",
        "heatmap_data = df.groupby(['Weekday', 'Year']).size().unstack()\n",
        "\n",
        "# 9. Criar Heatmap\n",
        "sns.heatmap(heatmap_data, annot=True, fmt=\"d\", cmap=\"coolwarm\")\n",
        "plt.title(\"Número de Ataques por Dia da Semana e Ano\")\n",
        "plt.show()\n",
        "\n",
        "# Remover colunas auxiliares\n",
        "df = df.drop(columns=['Timestamp', 'Year', 'Month', 'Day', 'DayOfWeek', 'Weekday'])"
      ],
      "metadata": {
        "colab": {
          "base_uri": "https://localhost:8080/",
          "height": 472
        },
        "id": "aWD5Mlk3AVM9",
        "outputId": "6d7b2149-354f-4fe3-b596-0b3d0a8cd304"
      },
      "execution_count": 119,
      "outputs": [
        {
          "output_type": "display_data",
          "data": {
            "text/plain": [
              "<Figure size 640x480 with 2 Axes>"
            ],
            "image/png": "[encoded data removed]"
          },
          "metadata": {}
        }
      ]
    },
    {
      "cell_type": "markdown",
      "source": [
        "O heatmap mostra que os ataques cibernéticos são mais frequentes durante os dias úteis e caem nos finais de semana. Em 2022, houve um pico significativo de ataques, especialmente às terças-feiras, possivelmente devido a vulnerabilidades em sistemas corporativos. Em 2023, é possível perceber uma redução geral nos ataques, podendo ser devido aos avanços em segurança cibernética.\n"
      ],
      "metadata": {
        "id": "nfj_fmKBWboT"
      }
    },
    {
      "cell_type": "markdown",
      "source": [
        "C) Divida aleatoriamente a base de dados em duas partes: treino, com 70% das amostras, e teste,\n",
        "com 30%. Faça a classificação dos dados utilizando uma Rede Neural. Você deverá testar 3\n",
        "topologias diferentes (números de camadas, neurônios, dropout, etc.) e explicar o porquê da\n",
        "escolha de cada uma."
      ],
      "metadata": {
        "id": "QEvXpaMTHYac"
      }
    },
    {
      "cell_type": "code",
      "source": [
        "from sklearn.model_selection import train_test_split\n",
        "\n",
        "# 10. Dividir em treino e teste\n",
        "X = df.drop(columns=['Severity Level'])\n",
        "y = df['Severity Level']\n",
        "\n",
        "X_train, X_test, y_train, y_test = train_test_split(X, y, test_size=0.3, random_state=42)"
      ],
      "metadata": {
        "id": "_V-jychjHrl8"
      },
      "execution_count": 120,
      "outputs": []
    },
    {
      "cell_type": "code",
      "source": [
        "from tensorflow.keras.models import Sequential\n",
        "from tensorflow.keras.layers import Dense, Dropout\n",
        "\n",
        "# 11. Construção e treinamento de modelos de redes neurais\n",
        "def build_model(input_shape, neurons, dropout_rate=0.0):\n",
        "    \"\"\"Cria um modelo sequencial com base nos parâmetros fornecidos.\"\"\"\n",
        "    model = Sequential()\n",
        "    model.add(Dense(neurons[0], activation='relu', input_shape=(input_shape,)))\n",
        "    for n in neurons[1:]:\n",
        "        if dropout_rate > 0:\n",
        "            model.add(Dropout(dropout_rate))\n",
        "        model.add(Dense(n, activation='relu'))\n",
        "    model.add(Dense(1, activation='sigmoid'))\n",
        "    model.compile(optimizer='adam', loss='binary_crossentropy', metrics=['accuracy'])\n",
        "    return model\n",
        "\n",
        "# Modelo 1: Simples\n",
        "model1 = build_model(input_shape=X_train.shape[1], neurons=[64])\n",
        "model1.fit(X_train, y_train, epochs=10, batch_size=32, verbose=1)\n",
        "\n",
        "# Modelo 2: Com Dropout\n",
        "model2 = build_model(input_shape=X_train.shape[1], neurons=[128, 64], dropout_rate=0.5)\n",
        "model2.fit(X_train, y_train, epochs=10, batch_size=32, verbose=1)\n",
        "\n",
        "# Modelo 3: Complexo com mais camadas\n",
        "model3 = build_model(input_shape=X_train.shape[1], neurons=[256, 128, 64])\n",
        "model3.fit(X_train, y_train, epochs=10, batch_size=32, verbose=1)"
      ],
      "metadata": {
        "colab": {
          "base_uri": "https://localhost:8080/"
        },
        "id": "uTPNbMkgA1oX",
        "outputId": "bbf4976d-8b63-4dae-af7b-a98b261dfeda"
      },
      "execution_count": 121,
      "outputs": [
        {
          "output_type": "stream",
          "name": "stdout",
          "text": [
            "Epoch 1/10\n"
          ]
        },
        {
          "output_type": "stream",
          "name": "stderr",
          "text": [
            "/usr/local/lib/python3.11/dist-packages/keras/src/layers/core/dense.py:87: UserWarning: Do not pass an `input_shape`/`input_dim` argument to a layer. When using Sequential models, prefer using an `Input(shape)` object as the first layer in the model instead.\n",
            "  super().__init__(activity_regularizer=activity_regularizer, **kwargs)\n"
          ]
        },
        {
          "output_type": "stream",
          "name": "stdout",
          "text": [
            "\u001b[1m875/875\u001b[0m \u001b[32m━━━━━━━━━━━━━━━━━━━━\u001b[0m\u001b[37m\u001b[0m \u001b[1m2s\u001b[0m 1ms/step - accuracy: 0.3296 - loss: 72.3995\n",
            "Epoch 2/10\n",
            "\u001b[1m875/875\u001b[0m \u001b[32m━━━━━━━━━━━━━━━━━━━━\u001b[0m\u001b[37m\u001b[0m \u001b[1m1s\u001b[0m 1ms/step - accuracy: 0.3256 - loss: 36.0327\n",
            "Epoch 3/10\n",
            "\u001b[1m875/875\u001b[0m \u001b[32m━━━━━━━━━━━━━━━━━━━━\u001b[0m\u001b[37m\u001b[0m \u001b[1m1s\u001b[0m 1ms/step - accuracy: 0.3280 - loss: 32.3637\n",
            "Epoch 4/10\n",
            "\u001b[1m875/875\u001b[0m \u001b[32m━━━━━━━━━━━━━━━━━━━━\u001b[0m\u001b[37m\u001b[0m \u001b[1m1s\u001b[0m 1ms/step - accuracy: 0.3310 - loss: 63.3240\n",
            "Epoch 5/10\n",
            "\u001b[1m875/875\u001b[0m \u001b[32m━━━━━━━━━━━━━━━━━━━━\u001b[0m\u001b[37m\u001b[0m \u001b[1m1s\u001b[0m 2ms/step - accuracy: 0.3269 - loss: 41.4726\n",
            "Epoch 6/10\n",
            "\u001b[1m875/875\u001b[0m \u001b[32m━━━━━━━━━━━━━━━━━━━━\u001b[0m\u001b[37m\u001b[0m \u001b[1m3s\u001b[0m 2ms/step - accuracy: 0.3301 - loss: 147.0563\n",
            "Epoch 7/10\n",
            "\u001b[1m875/875\u001b[0m \u001b[32m━━━━━━━━━━━━━━━━━━━━\u001b[0m\u001b[37m\u001b[0m \u001b[1m2s\u001b[0m 1ms/step - accuracy: 0.3306 - loss: 29.3201\n",
            "Epoch 8/10\n",
            "\u001b[1m875/875\u001b[0m \u001b[32m━━━━━━━━━━━━━━━━━━━━\u001b[0m\u001b[37m\u001b[0m \u001b[1m2s\u001b[0m 2ms/step - accuracy: 0.3257 - loss: -63.9010\n",
            "Epoch 9/10\n",
            "\u001b[1m875/875\u001b[0m \u001b[32m━━━━━━━━━━━━━━━━━━━━\u001b[0m\u001b[37m\u001b[0m \u001b[1m2s\u001b[0m 2ms/step - accuracy: 0.3269 - loss: -11.8734\n",
            "Epoch 10/10\n",
            "\u001b[1m875/875\u001b[0m \u001b[32m━━━━━━━━━━━━━━━━━━━━\u001b[0m\u001b[37m\u001b[0m \u001b[1m2s\u001b[0m 2ms/step - accuracy: 0.3276 - loss: -45.7608\n",
            "Epoch 1/10\n"
          ]
        },
        {
          "output_type": "stream",
          "name": "stderr",
          "text": [
            "/usr/local/lib/python3.11/dist-packages/keras/src/layers/core/dense.py:87: UserWarning: Do not pass an `input_shape`/`input_dim` argument to a layer. When using Sequential models, prefer using an `Input(shape)` object as the first layer in the model instead.\n",
            "  super().__init__(activity_regularizer=activity_regularizer, **kwargs)\n"
          ]
        },
        {
          "output_type": "stream",
          "name": "stdout",
          "text": [
            "\u001b[1m875/875\u001b[0m \u001b[32m━━━━━━━━━━━━━━━━━━━━\u001b[0m\u001b[37m\u001b[0m \u001b[1m3s\u001b[0m 2ms/step - accuracy: 0.3258 - loss: 104.8253\n",
            "Epoch 2/10\n",
            "\u001b[1m875/875\u001b[0m \u001b[32m━━━━━━━━━━━━━━━━━━━━\u001b[0m\u001b[37m\u001b[0m \u001b[1m3s\u001b[0m 2ms/step - accuracy: 0.3249 - loss: 115.3848\n",
            "Epoch 3/10\n",
            "\u001b[1m875/875\u001b[0m \u001b[32m━━━━━━━━━━━━━━━━━━━━\u001b[0m\u001b[37m\u001b[0m \u001b[1m2s\u001b[0m 2ms/step - accuracy: 0.3232 - loss: -51.9296\n",
            "Epoch 4/10\n",
            "\u001b[1m875/875\u001b[0m \u001b[32m━━━━━━━━━━━━━━━━━━━━\u001b[0m\u001b[37m\u001b[0m \u001b[1m3s\u001b[0m 2ms/step - accuracy: 0.3293 - loss: 25.2935\n",
            "Epoch 5/10\n",
            "\u001b[1m875/875\u001b[0m \u001b[32m━━━━━━━━━━━━━━━━━━━━\u001b[0m\u001b[37m\u001b[0m \u001b[1m1s\u001b[0m 2ms/step - accuracy: 0.3259 - loss: 149.8498\n",
            "Epoch 6/10\n",
            "\u001b[1m875/875\u001b[0m \u001b[32m━━━━━━━━━━━━━━━━━━━━\u001b[0m\u001b[37m\u001b[0m \u001b[1m1s\u001b[0m 2ms/step - accuracy: 0.3231 - loss: 38.2879\n",
            "Epoch 7/10\n",
            "\u001b[1m875/875\u001b[0m \u001b[32m━━━━━━━━━━━━━━━━━━━━\u001b[0m\u001b[37m\u001b[0m \u001b[1m3s\u001b[0m 2ms/step - accuracy: 0.3264 - loss: -152.4548\n",
            "Epoch 8/10\n",
            "\u001b[1m875/875\u001b[0m \u001b[32m━━━━━━━━━━━━━━━━━━━━\u001b[0m\u001b[37m\u001b[0m \u001b[1m3s\u001b[0m 2ms/step - accuracy: 0.3302 - loss: -109.9025\n",
            "Epoch 9/10\n",
            "\u001b[1m875/875\u001b[0m \u001b[32m━━━━━━━━━━━━━━━━━━━━\u001b[0m\u001b[37m\u001b[0m \u001b[1m2s\u001b[0m 2ms/step - accuracy: 0.3239 - loss: -218.8249\n",
            "Epoch 10/10\n",
            "\u001b[1m875/875\u001b[0m \u001b[32m━━━━━━━━━━━━━━━━━━━━\u001b[0m\u001b[37m\u001b[0m \u001b[1m3s\u001b[0m 2ms/step - accuracy: 0.3275 - loss: -25.9640\n",
            "Epoch 1/10\n"
          ]
        },
        {
          "output_type": "stream",
          "name": "stderr",
          "text": [
            "/usr/local/lib/python3.11/dist-packages/keras/src/layers/core/dense.py:87: UserWarning: Do not pass an `input_shape`/`input_dim` argument to a layer. When using Sequential models, prefer using an `Input(shape)` object as the first layer in the model instead.\n",
            "  super().__init__(activity_regularizer=activity_regularizer, **kwargs)\n"
          ]
        },
        {
          "output_type": "stream",
          "name": "stdout",
          "text": [
            "\u001b[1m875/875\u001b[0m \u001b[32m━━━━━━━━━━━━━━━━━━━━\u001b[0m\u001b[37m\u001b[0m \u001b[1m3s\u001b[0m 2ms/step - accuracy: 0.3268 - loss: 113.3134\n",
            "Epoch 2/10\n",
            "\u001b[1m875/875\u001b[0m \u001b[32m━━━━━━━━━━━━━━━━━━━━\u001b[0m\u001b[37m\u001b[0m \u001b[1m2s\u001b[0m 2ms/step - accuracy: 0.3271 - loss: 182.4030\n",
            "Epoch 3/10\n",
            "\u001b[1m875/875\u001b[0m \u001b[32m━━━━━━━━━━━━━━━━━━━━\u001b[0m\u001b[37m\u001b[0m \u001b[1m2s\u001b[0m 2ms/step - accuracy: 0.3314 - loss: 32.2352\n",
            "Epoch 4/10\n",
            "\u001b[1m875/875\u001b[0m \u001b[32m━━━━━━━━━━━━━━━━━━━━\u001b[0m\u001b[37m\u001b[0m \u001b[1m3s\u001b[0m 3ms/step - accuracy: 0.3299 - loss: 23.3426\n",
            "Epoch 5/10\n",
            "\u001b[1m875/875\u001b[0m \u001b[32m━━━━━━━━━━━━━━━━━━━━\u001b[0m\u001b[37m\u001b[0m \u001b[1m2s\u001b[0m 2ms/step - accuracy: 0.3257 - loss: 4.4018\n",
            "Epoch 6/10\n",
            "\u001b[1m875/875\u001b[0m \u001b[32m━━━━━━━━━━━━━━━━━━━━\u001b[0m\u001b[37m\u001b[0m \u001b[1m2s\u001b[0m 2ms/step - accuracy: 0.3256 - loss: -4.7705\n",
            "Epoch 7/10\n",
            "\u001b[1m875/875\u001b[0m \u001b[32m━━━━━━━━━━━━━━━━━━━━\u001b[0m\u001b[37m\u001b[0m \u001b[1m3s\u001b[0m 2ms/step - accuracy: 0.3335 - loss: 3.5106\n",
            "Epoch 8/10\n",
            "\u001b[1m875/875\u001b[0m \u001b[32m━━━━━━━━━━━━━━━━━━━━\u001b[0m\u001b[37m\u001b[0m \u001b[1m2s\u001b[0m 2ms/step - accuracy: 0.3279 - loss: 358.7643\n",
            "Epoch 9/10\n",
            "\u001b[1m875/875\u001b[0m \u001b[32m━━━━━━━━━━━━━━━━━━━━\u001b[0m\u001b[37m\u001b[0m \u001b[1m2s\u001b[0m 2ms/step - accuracy: 0.3308 - loss: 58.2509\n",
            "Epoch 10/10\n",
            "\u001b[1m875/875\u001b[0m \u001b[32m━━━━━━━━━━━━━━━━━━━━\u001b[0m\u001b[37m\u001b[0m \u001b[1m3s\u001b[0m 3ms/step - accuracy: 0.3312 - loss: 4.9198\n"
          ]
        },
        {
          "output_type": "execute_result",
          "data": {
            "text/plain": [
              "<keras.src.callbacks.history.History at 0x793f2654a310>"
            ]
          },
          "metadata": {},
          "execution_count": 121
        }
      ]
    },
    {
      "cell_type": "code",
      "source": [
        "# 12. Avaliação dos modelos\n",
        "print(\"\\nModelo 1 - Avaliação:\")\n",
        "model1.evaluate(X_test, y_test, verbose=1)\n",
        "\n",
        "print(\"\\nModelo 2 - Avaliação:\")\n",
        "model2.evaluate(X_test, y_test, verbose=1)\n",
        "\n",
        "print(\"\\nModelo 3 - Avaliação:\")\n",
        "model3.evaluate(X_test, y_test, verbose=1)"
      ],
      "metadata": {
        "colab": {
          "base_uri": "https://localhost:8080/"
        },
        "id": "W4wJaduqVSNr",
        "outputId": "8fd15a2a-a0c1-4f29-9137-be4aa29a0621"
      },
      "execution_count": 122,
      "outputs": [
        {
          "output_type": "stream",
          "name": "stdout",
          "text": [
            "\n",
            "Modelo 1 - Avaliação:\n",
            "\u001b[1m375/375\u001b[0m \u001b[32m━━━━━━━━━━━━━━━━━━━━\u001b[0m\u001b[37m\u001b[0m \u001b[1m1s\u001b[0m 1ms/step - accuracy: 0.3382 - loss: -199.7678\n",
            "\n",
            "Modelo 2 - Avaliação:\n",
            "\u001b[1m375/375\u001b[0m \u001b[32m━━━━━━━━━━━━━━━━━━━━\u001b[0m\u001b[37m\u001b[0m \u001b[1m1s\u001b[0m 1ms/step - accuracy: 0.3380 - loss: -259.0039\n",
            "\n",
            "Modelo 3 - Avaliação:\n",
            "\u001b[1m375/375\u001b[0m \u001b[32m━━━━━━━━━━━━━━━━━━━━\u001b[0m\u001b[37m\u001b[0m \u001b[1m1s\u001b[0m 1ms/step - accuracy: 0.3368 - loss: -41.3405\n"
          ]
        },
        {
          "output_type": "execute_result",
          "data": {
            "text/plain": [
              "[-23.631898880004883, 0.3346666693687439]"
            ]
          },
          "metadata": {},
          "execution_count": 122
        }
      ]
    },
    {
      "cell_type": "markdown",
      "source": [
        "D) Compare os resultados obtidos. O que você pode concluir?"
      ],
      "metadata": {
        "id": "ntvHn641ZLBU"
      }
    },
    {
      "cell_type": "markdown",
      "source": [
        "Os resultados dos três modelos mostram que eles não foram capazes de realizar uma classificação eficiente. A acurácia em torno de 33% está muito baixa, o que indica que os modelos não conseguiram aprender padrões relevantes nos dados."
      ],
      "metadata": {
        "id": "CVu0iOHJZOUC"
      }
    },
    {
      "cell_type": "markdown",
      "source": [],
      "metadata": {
        "id": "ZIG46LVcZll1"
      }
    }
  ]
}